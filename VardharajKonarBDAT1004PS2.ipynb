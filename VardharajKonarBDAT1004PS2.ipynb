{
 "cells": [
  {
   "cell_type": "markdown",
   "id": "7aab8e03",
   "metadata": {},
   "source": [
    "### 1. What value is displayed when the last expression (a) is evaluated? Explain your answer by indicating what happens in every executed statement."
   ]
  },
  {
   "cell_type": "code",
   "execution_count": 12,
   "id": "b3c0d582",
   "metadata": {},
   "outputs": [
    {
     "data": {
      "text/plain": [
       "6"
      ]
     },
     "execution_count": 12,
     "metadata": {},
     "output_type": "execute_result"
    }
   ],
   "source": [
    "a = 0\n",
    "def b():\n",
    "    global a\n",
    "    a = c(a)\n",
    "def c(a):\n",
    "    return a + 2\n",
    "b()\n",
    "b()\n",
    "b()\n",
    "a"
   ]
  },
  {
   "cell_type": "markdown",
   "id": "80a1fd1c",
   "metadata": {},
   "source": [
    "### After importing the module and executing `b()` three times, the final value of the global variable `a` is 6. Initially, `a` is set to 0. Each call to `b()` updates `a` by adding 2 to its current value through the function `c(a)`. On the first call, `a` becomes 2 (0 + 2), on the second call, `a` becomes 4 (2 + 2), and on the third call, `a` becomes 6 (4 + 2). Therefore, evaluating `a` after these calls results in the value 6."
   ]
  },
  {
   "cell_type": "markdown",
   "id": "ac510c93",
   "metadata": {},
   "source": [
    "### 2. Function fileLength(), given to you, takes the name of a file as input and returns the length of the file"
   ]
  },
  {
   "cell_type": "code",
   "execution_count": 1,
   "id": "a0b09041",
   "metadata": {},
   "outputs": [
    {
     "name": "stdout",
     "output_type": "stream",
     "text": [
      "114405\n",
      "File  C:\\Users\\vrajk\\\\OneDrive\\Desktop\\BDAT\\SEM 1\\others\\Assignment2\\idterm.py  not found\n"
     ]
    }
   ],
   "source": [
    "import os\n",
    "def fileLength(filename):\n",
    "    try:\n",
    "        statinfo = os.stat(filename)\n",
    "        print(statinfo.st_size)\n",
    "    except IOError:\n",
    "        print(\"File \",str(filename), \" not found\")\n",
    "fileLength('C:\\\\Users\\\\vrajk\\\\\\OneDrive\\\\Desktop\\\\BDAT\\\\SEM 1\\\\others\\\\Assignment2\\\\Assignment_2_Vardharaj.ipynb')\n",
    "fileLength('C:\\\\Users\\\\vrajk\\\\\\OneDrive\\\\Desktop\\\\BDAT\\\\SEM 1\\\\others\\\\Assignment2\\\\idterm.py')\n"
   ]
  },
  {
   "cell_type": "code",
   "execution_count": null,
   "id": "027774f9",
   "metadata": {},
   "outputs": [],
   "source": []
  },
  {
   "cell_type": "markdown",
   "id": "06e3f3ae",
   "metadata": {},
   "source": [
    "### 3 Question Write a class named Marsupial "
   ]
  },
  {
   "cell_type": "code",
   "execution_count": 2,
   "id": "538f68f1",
   "metadata": {},
   "outputs": [
    {
     "name": "stdout",
     "output_type": "stream",
     "text": [
      "['doll', 'firetruck', 'kitten']\n",
      "I am a Kangaroo located at coordinates (0,0)\n",
      "['doll', 'firetruck', 'kitten']\n",
      "I am a Kangaroo located at coordinates (3,0)\n"
     ]
    }
   ],
   "source": [
    "class Marsupial:\n",
    "    def __init__(self):\n",
    "        self.pouch = []\n",
    "\n",
    "    def put_in_pouch(self, item):\n",
    "        self.pouch.append(item)\n",
    "\n",
    "    def pouch_contents(self):\n",
    "        return self.pouch\n",
    "\n",
    "class Kangaroo(Marsupial):\n",
    "    def __init__(self, x, y):\n",
    "        super().__init__()\n",
    "        self.x = x\n",
    "        self.y = y\n",
    "\n",
    "    def jump(self, dx, dy):\n",
    "        self.x += dx\n",
    "        self.y += dy\n",
    "\n",
    "    def __str__(self):\n",
    "        return f\"I am a Kangaroo located at coordinates ({self.x},{self.y})\"\n",
    "\n",
    "# Example usage\n",
    "m = Marsupial()\n",
    "m.put_in_pouch('doll')\n",
    "m.put_in_pouch('firetruck')\n",
    "m.put_in_pouch('kitten')\n",
    "print(m.pouch_contents())  # ['doll', 'firetruck', 'kitten']\n",
    "\n",
    "k = Kangaroo(0, 0)\n",
    "print(k)  # I am a Kangaroo located at coordinates (0,0)\n",
    "k.put_in_pouch('doll')\n",
    "k.put_in_pouch('firetruck')\n",
    "k.put_in_pouch('kitten')\n",
    "print(k.pouch_contents())  # ['doll', 'firetruck', 'kitten']\n",
    "k.jump(1, 0)\n",
    "k.jump(1, 0)\n",
    "k.jump(1, 0)\n",
    "print(k)  # I am a Kangaroo located at coordinates (3,0)\n"
   ]
  },
  {
   "cell_type": "markdown",
   "id": "dc51ab30",
   "metadata": {},
   "source": [
    "###\n",
    "4. \n",
    "Write function collatz() that takes a positive integer x as input and prints the\n",
    "Collatz sequence starting at x. A Collatz sequence is obtained by repeatedly applying\n",
    "this rule to the previous number x in the sequence:\n",
    "x = { 𝑥/2 𝑖𝑓 𝑥 𝑖𝑠 𝑒𝑣𝑒𝑛\n",
    "3𝑥 + 1 𝑖𝑓 𝑥 𝑖𝑠 𝑜𝑑𝑑\n",
    "Your function should stop when the sequence gets to number 1. Your\n",
    "implementation must be recursive, without any loops."
   ]
  },
  {
   "cell_type": "code",
   "execution_count": 3,
   "id": "473b2317",
   "metadata": {},
   "outputs": [
    {
     "name": "stdout",
     "output_type": "stream",
     "text": [
      "1\n",
      "\n",
      "10\n",
      "5\n",
      "16\n",
      "8\n",
      "4\n",
      "2\n",
      "1\n"
     ]
    }
   ],
   "source": [
    "def collatz(x):\n",
    "    # Print the current value of x\n",
    "    print(x)\n",
    "    \n",
    "    # Base case: if x is 1, stop the recursion\n",
    "    if x == 1:\n",
    "        return\n",
    "    # Recursive case: apply the Collatz rule and call collatz() recursively\n",
    "    elif x % 2 == 0:\n",
    "        collatz(x // 2)\n",
    "    else:\n",
    "        collatz(3 * x + 1)\n",
    "\n",
    "# Example usage\n",
    "collatz(1)  # Expected output: 1\n",
    "print()  # For a newline between test cases\n",
    "collatz(10)  # Expected output: 10, 5, 16, 8, 4, 2, 1\n"
   ]
  },
  {
   "cell_type": "markdown",
   "id": "7395e4ea",
   "metadata": {},
   "source": [
    "### 5. \n",
    "Write a recursive method binary() that takes a non-negative\n",
    "integer n and prints the binary representation of integer n"
   ]
  },
  {
   "cell_type": "code",
   "execution_count": 4,
   "id": "d02b5a8a",
   "metadata": {},
   "outputs": [
    {
     "name": "stdout",
     "output_type": "stream",
     "text": [
      "0\n",
      "1\n",
      "11\n",
      "1001\n"
     ]
    }
   ],
   "source": [
    "def binary(n):\n",
    "    if n == 0:\n",
    "        print(0, end='')\n",
    "        return\n",
    "    elif n == 1:\n",
    "        print(1, end='')\n",
    "        return\n",
    "    else:\n",
    "        binary(n // 2)\n",
    "        print(n % 2, end='')\n",
    "\n",
    "# Example usage\n",
    "binary(0)  \n",
    "print()  \n",
    "binary(1)  \n",
    "print()  \n",
    "binary(3)  \n",
    "print()  \n",
    "binary(9)  \n",
    "print()  "
   ]
  },
  {
   "cell_type": "markdown",
   "id": "0cc08c33",
   "metadata": {},
   "source": [
    "### 6. \n",
    "Implement a class named HeadingParser that can be used to parse an HTML\n",
    "document, and retrieve and print all the headings in the document. You should\n",
    "implement your class as a subclass of HTMLParser, defined in Standard Library\n",
    "module html.parser. When fed a string containing HTML code, your class should\n",
    "print the headings, one per line and in the order in which they appear in the\n",
    "document. Each heading should be indented as follows: an h1 heading should have\n",
    "indentation 0, and h2 heading should have indentation 1, etc. Test your\n",
    "implementation using w3c.txt"
   ]
  },
  {
   "cell_type": "code",
   "execution_count": 5,
   "id": "988ae293",
   "metadata": {},
   "outputs": [
    {
     "name": "stdout",
     "output_type": "stream",
     "text": [
      "W3C Mission\n",
      "    Principles\n"
     ]
    }
   ],
   "source": [
    "from html.parser import HTMLParser\n",
    "\n",
    "class HeadingParser(HTMLParser):\n",
    "    def __init__(self):\n",
    "        super().__init__()\n",
    "        self.headings = []\n",
    "        self.current_heading = \"\"\n",
    "        self.indentation = 0\n",
    "        \n",
    "    def handle_starttag(self, tag, attrs):\n",
    "        if tag.startswith('h') and tag[1:].isdigit():  # Check if it's a heading tag h1, h2, etc.\n",
    "            self.indentation = int(tag[1:]) - 1  # Calculate indentation level\n",
    "            self.current_heading = \"\" \n",
    "    \n",
    "    def handle_data(self, data):\n",
    "        self.current_heading += data.strip()  # Append heading content without leading/trailing whitespace\n",
    "    \n",
    "    def handle_endtag(self, tag):\n",
    "        if tag.startswith('h') and tag[1:].isdigit():\n",
    "            self.headings.append(' ' * self.indentation * 4 + self.current_heading)  # Indent according to level\n",
    "    \n",
    "    def get_headings(self):\n",
    "        return self.headings\n",
    "    \n",
    "if __name__ == \"__main__\":\n",
    "    infile = open('C:\\\\Users\\\\vrajk\\\\\\OneDrive\\\\Desktop\\\\BDAT\\\\SEM 1\\\\others\\\\Assignment2\\\\w3c.txt', 'r', encoding='utf-8')  \n",
    "    content = infile.read()\n",
    "    infile.close()\n",
    "    \n",
    "    hp = HeadingParser()\n",
    "    hp.feed(content)\n",
    "    \n",
    "    headings = hp.get_headings()\n",
    "    for heading in headings:\n",
    "        print(heading)\n"
   ]
  },
  {
   "cell_type": "markdown",
   "id": "c06f361b",
   "metadata": {},
   "source": [
    "### 7.\n",
    "Implement recursive function webdir() that takes as input: a URL (as a string) and\n",
    "non-negative integers depth and indent. Your function should visit every web\n",
    "page reachable from the starting URL web page in depth clicks or less, and print\n",
    "each web page's URL. As shown below, indentation, specified by indent, should\n",
    "be used to indicate the depth of a URL."
   ]
  },
  {
   "cell_type": "code",
   "execution_count": 13,
   "id": "8f905f40",
   "metadata": {},
   "outputs": [
    {
     "name": "stdout",
     "output_type": "stream",
     "text": [
      "http://reed.cs.depaul.edu/lperkovic/csc242/test1.html\n"
     ]
    }
   ],
   "source": [
    "import requests\n",
    "from bs4 import BeautifulSoup\n",
    "from urllib.parse import urljoin\n",
    "\n",
    "def webdir(url, depth, indent):\n",
    "    # To avoid revisiting the same URLs\n",
    "    visited_urls = set()\n",
    "\n",
    "    def _webdir(url, current_depth, indent):\n",
    "        if current_depth > depth:\n",
    "            return\n",
    "        \n",
    "        # Fetching the web page content\n",
    "        try:\n",
    "            response = requests.get(url)\n",
    "        except requests.exceptions.RequestException as e:\n",
    "            print(f\"Error fetching {url}: {e}\")\n",
    "            return\n",
    "        \n",
    "        # Parse the HTML content\n",
    "        soup = BeautifulSoup(response.content, 'html.parser')\n",
    "        \n",
    "        # Print the current URL with proper indentation\n",
    "        print(' ' * indent + url)\n",
    "        \n",
    "        # Adding current URL to visited set\n",
    "        visited_urls.add(url)\n",
    "        \n",
    "        # Finding all links on the page\n",
    "        for link in soup.find_all('a', href=True):\n",
    "            next_url = urljoin(url, link['href'])\n",
    "            \n",
    "            # Recursively call _webdir() for each link found\n",
    "            if next_url not in visited_urls:\n",
    "                _webdir(next_url, current_depth + 1, indent + 2)\n",
    "    \n",
    "    # Start the recursive function\n",
    "    _webdir(url, 0, indent)\n",
    "\n",
    "\n",
    "webdir('http://reed.cs.depaul.edu/lperkovic/csc242/test1.html', 2, 0)\n"
   ]
  },
  {
   "cell_type": "markdown",
   "id": "15fc84e6",
   "metadata": {},
   "source": [
    "### 8. SQL queries executed on sql plus terminal , attaching sql queries and output screenshot in a seperate word document "
   ]
  },
  {
   "cell_type": "markdown",
   "id": "42c07b10",
   "metadata": {},
   "source": [
    "### 9. \n",
    " Suppose list words is defined as follows:\n",
    ">>> words = ['The', 'quick', 'brown', 'fox', 'jumps', 'over',\n",
    "'the', 'lazy', 'dog']\n",
    "Write list comprehension expressions that use list words"
   ]
  },
  {
   "cell_type": "code",
   "execution_count": 7,
   "id": "7a49257a",
   "metadata": {},
   "outputs": [
    {
     "name": "stdout",
     "output_type": "stream",
     "text": [
      "a)  ['THE', 'QUICK', 'BROWN', 'FOX', 'JUMPS', 'OVER', 'THE', 'LAZY', 'DOG']\n",
      "b)  ['the', 'quick', 'brown', 'fox', 'jumps', 'over', 'the', 'lazy', 'dog']\n",
      "c)  [3, 5, 5, 3, 5, 4, 3, 4, 3]\n",
      "d)  [['THE', 'the', 3], ['QUICK', 'quick', 5], ['BROWN', 'brown', 5], ['FOX', 'fox', 3], ['JUMPS', 'jumps', 5], ['OVER', 'over', 4], ['THE', 'the', 3], ['LAZY', 'lazy', 4], ['DOG', 'dog', 3]]\n",
      "e)  ['quick', 'brown', 'jumps', 'over', 'lazy']\n"
     ]
    }
   ],
   "source": [
    "words = ['The', 'quick', 'brown', 'fox', 'jumps', 'over', 'the', 'lazy', 'dog']\n",
    "\n",
    "# a) Convert all words to uppercase\n",
    "a = [word.upper() for word in words]\n",
    "\n",
    "# b) Convert all words to lowercase\n",
    "b = [word.lower() for word in words]\n",
    "\n",
    "# c) Lengths of words in list words\n",
    "c = [len(word) for word in words]\n",
    "\n",
    "# d) List of lists with word in uppercase, lowercase, and length\n",
    "d = [[word.upper(), word.lower(), len(word)] for word in words]\n",
    "\n",
    "# e) Words with 4 or more characters\n",
    "e = [word for word in words if len(word) >= 4]\n",
    "\n",
    "# Print the results\n",
    "print(\"a) \", a)\n",
    "print(\"b) \", b)\n",
    "print(\"c) \", c)\n",
    "print(\"d) \", d)\n",
    "print(\"e) \", e)\n"
   ]
  },
  {
   "cell_type": "code",
   "execution_count": null,
   "id": "63011adb",
   "metadata": {},
   "outputs": [],
   "source": []
  }
 ],
 "metadata": {
  "kernelspec": {
   "display_name": "Python 3 (ipykernel)",
   "language": "python",
   "name": "python3"
  },
  "language_info": {
   "codemirror_mode": {
    "name": "ipython",
    "version": 3
   },
   "file_extension": ".py",
   "mimetype": "text/x-python",
   "name": "python",
   "nbconvert_exporter": "python",
   "pygments_lexer": "ipython3",
   "version": "3.11.3"
  }
 },
 "nbformat": 4,
 "nbformat_minor": 5
}
